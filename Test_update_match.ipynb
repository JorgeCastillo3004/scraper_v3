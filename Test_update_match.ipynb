{
 "cells": [
  {
   "cell_type": "code",
   "execution_count": 4,
   "id": "8f68eb8d",
   "metadata": {},
   "outputs": [
    {
     "name": "stdout",
     "output_type": "stream",
     "text": [
      "2024-02-18\n",
      "17:59:28.057108\n"
     ]
    }
   ],
   "source": [
    "from common_functions import *\n",
    "from data_base import *\n",
    "from milestone1 import *\n",
    "from milestone2 import *\n",
    "from milestone3 import *\n",
    "from milestone4 import *\n",
    "# from milestone5 import *\n",
    "from milestone6 import *\n",
    "from milestone7 import *\n",
    "from milestone8 import *\n",
    "\n",
    "import psycopg2\n",
    "from datetime import date, timedelta\n",
    "from datetime import datetime\n",
    "\n",
    "\n",
    "def getdb():\n",
    "\treturn psycopg2.connect(\n",
    "\t\t\thost=\"localhost\",\n",
    "\t\t\tuser=\"wohhu\",\n",
    "\t\t\tpassword=\"caracas123\",\n",
    "\tdbname='sports_db',\n",
    "\t)\n",
    "\n",
    "# Obtener la hora actual\n",
    "current_time = datetime.now()\n",
    "\n",
    "# Formatear la hora en el formato deseado\n",
    "date_formatted = current_time.strftime(\"%Y-%m-%d\")\n",
    "time_formatted = current_time.strftime(\"%H:%M:%S.%f\")\n",
    "\n",
    "print(date_formatted)\n",
    "print(time_formatted)\n"
   ]
  },
  {
   "cell_type": "markdown",
   "id": "42f93bf2",
   "metadata": {},
   "source": [
    "# Create a database connection."
   ]
  },
  {
   "cell_type": "code",
   "execution_count": 84,
   "id": "7429482d",
   "metadata": {},
   "outputs": [],
   "source": [
    "con = getdb()"
   ]
  },
  {
   "cell_type": "code",
   "execution_count": 21,
   "id": "66c8ee45",
   "metadata": {},
   "outputs": [
    {
     "name": "stdout",
     "output_type": "stream",
     "text": [
      "local_time_naive:  2024-02-18 19:07:11.403912\n",
      "utc_time_naive:  2024-02-18 23:07:11.403995\n",
      "Total results:  74\n",
      "Current UTC time:  23:07:11.403995\n",
      "Wilstermann-Oriente Petrolero 23:30:00.000005\n",
      "Jaguares de Cordoba-Once Caldas 23:10:00.000005\n",
      "Veraguas-Deportivo Universitario 23:15:00.000005\n",
      "Nacional Asuncion-Sportivo Trinidense 23:45:00.000005\n"
     ]
    }
   ],
   "source": [
    "def get_match_by_day():\n",
    "    # Query to retrieve pending matches for updating.\n",
    "    query = \"\"\"\n",
    "        SELECT sport.name, league.league_name, league.league_country,\\\n",
    "        match.match_date, match.start_time, match.name, match.match_id \\\n",
    "        FROM MATCH \n",
    "        JOIN LEAGUE ON MATCH.LEAGUE_ID = LEAGUE.LEAGUE_ID\n",
    "        JOIN SPORT ON SPORT.SPORT_ID = LEAGUE.SPORT_ID\n",
    "        WHERE MATCH.MATCH_DATE = CURRENT_DATE        \n",
    "        \"\"\"\n",
    "\n",
    "    cur = con.cursor()\n",
    "    cur.execute(query)    \n",
    "    return cur.fetchall()\n",
    "\n",
    "\n",
    "local_time_naive = datetime.now()\n",
    "utc_time_naive = datetime.utcnow()\n",
    "\n",
    "print(\"local_time_naive: \", local_time_naive)\n",
    "print(\"utc_time_naive: \", utc_time_naive)\n",
    "\n",
    "results = get_match_by_day()\n",
    "print(\"Total results: \", len(results))\n",
    "results\n",
    "dict_pending = build_dict_match(results)\n",
    "print(\"Current UTC time: \", utc_time_naive.time())\n",
    "for name, match in dict_pending['FOOTBALL'].items():    \n",
    "    if match['match_time']>= utc_time_naive.time():\n",
    "        print(name, match['match_time'])\n",
    "    \n",
    "    \n",
    "    "
   ]
  },
  {
   "cell_type": "code",
   "execution_count": 15,
   "id": "ad449cb0",
   "metadata": {},
   "outputs": [
    {
     "name": "stdout",
     "output_type": "stream",
     "text": [
      "Total results:  4\n",
      "Betis-Alaves 20:00:00.000005\n",
      "Racing Montevideo-Liverpool M. 20:00:00.000005\n",
      "Velez Sarsfield-Huracan 20:00:00.000005\n",
      "Instituto-Independiente 20:00:00.000005\n"
     ]
    }
   ],
   "source": [
    "def get_match_by_day():\n",
    "    # Query to retrieve pending matches for updating.\n",
    "    query = \"\"\"\n",
    "        SELECT sport.name, league.league_name, league.league_country,\\\n",
    "        match.match_date, match.start_time, match.name, match.match_id \\\n",
    "        FROM MATCH \n",
    "        JOIN LEAGUE ON MATCH.LEAGUE_ID = LEAGUE.LEAGUE_ID\n",
    "        JOIN SPORT ON SPORT.SPORT_ID = LEAGUE.SPORT_ID\n",
    "        WHERE MATCH.MATCH_DATE = CURRENT_DATE\n",
    "        AND MATCH.STATUS = 'R'\n",
    "        \"\"\"\n",
    "\n",
    "    cur = con.cursor()\n",
    "    cur.execute(query)    \n",
    "    return cur.fetchall()\n",
    "\n",
    "results = get_match_by_day()\n",
    "print(\"Total results: \", len(results))\n",
    "\n",
    "dict_pending = build_dict_match(results)\n",
    "for name, match in dict_pending['FOOTBALL'].items():\n",
    "    print(name, match['match_time'])"
   ]
  },
  {
   "cell_type": "code",
   "execution_count": 110,
   "id": "f00290c2",
   "metadata": {},
   "outputs": [
    {
     "data": {
      "text/plain": [
       "'https://www.flashscore.com/football/united-arab-emirates/uae-league/results/'"
      ]
     },
     "execution_count": 110,
     "metadata": {},
     "output_type": "execute_result"
    }
   ],
   "source": [
    "leagues_info_json = load_check_point('check_points/leagues_info.json')\n",
    "\n",
    "\n",
    "result_url = leagues_info_json[sport][league_country + '_' +league_name]['results']\n",
    "result_url\n",
    "\n"
   ]
  },
  {
   "cell_type": "code",
   "execution_count": 4,
   "id": "9dacb073",
   "metadata": {},
   "outputs": [
    {
     "data": {
      "text/plain": [
       "2"
      ]
     },
     "execution_count": 4,
     "metadata": {},
     "output_type": "execute_result"
    }
   ],
   "source": [
    "dict1 = {'var':1, 'var1':1}\n",
    "initial_len = None\n",
    "if not initial_len:\n",
    "    initial_len = len(dict1)\n",
    "initial_len"
   ]
  },
  {
   "cell_type": "code",
   "execution_count": null,
   "id": "7f43fea0",
   "metadata": {},
   "outputs": [],
   "source": []
  },
  {
   "cell_type": "code",
   "execution_count": null,
   "id": "ffcfb835",
   "metadata": {},
   "outputs": [],
   "source": []
  },
  {
   "cell_type": "code",
   "execution_count": 66,
   "id": "dbc52c06",
   "metadata": {},
   "outputs": [],
   "source": [
    "# Close database connection\n",
    "con.close()"
   ]
  }
 ],
 "metadata": {
  "kernelspec": {
   "display_name": "sport_env",
   "language": "python",
   "name": "sport_env"
  },
  "language_info": {
   "codemirror_mode": {
    "name": "ipython",
    "version": 3
   },
   "file_extension": ".py",
   "mimetype": "text/x-python",
   "name": "python",
   "nbconvert_exporter": "python",
   "pygments_lexer": "ipython3",
   "version": "3.10.12"
  }
 },
 "nbformat": 4,
 "nbformat_minor": 5
}
