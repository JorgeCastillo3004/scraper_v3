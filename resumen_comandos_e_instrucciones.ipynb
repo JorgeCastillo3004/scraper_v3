{
 "cells": [
  {
   "cell_type": "markdown",
   "id": "ddbf2b35",
   "metadata": {},
   "source": [
    "# Explorar la base de datos."
   ]
  },
  {
   "cell_type": "code",
   "execution_count": null,
   "id": "bdeabb35",
   "metadata": {},
   "outputs": [],
   "source": [
    "# Ingreso desde consola a la base de datos.\n",
    "docker exec -it sports_container psql -U wohhu -d sports_db\n",
    "\n",
    "#\n"
   ]
  }
 ],
 "metadata": {
  "kernelspec": {
   "display_name": "sports_env",
   "language": "python",
   "name": "sports_env"
  },
  "language_info": {
   "codemirror_mode": {
    "name": "ipython",
    "version": 3
   },
   "file_extension": ".py",
   "mimetype": "text/x-python",
   "name": "python",
   "nbconvert_exporter": "python",
   "pygments_lexer": "ipython3",
   "version": "3.10.12"
  }
 },
 "nbformat": 4,
 "nbformat_minor": 5
}
